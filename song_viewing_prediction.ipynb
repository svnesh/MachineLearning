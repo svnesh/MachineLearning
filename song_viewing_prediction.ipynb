{
  "nbformat": 4,
  "nbformat_minor": 0,
  "metadata": {
    "colab": {
      "name": "song_viewing_prediction.ipynb",
      "provenance": [],
      "collapsed_sections": [],
      "authorship_tag": "ABX9TyMRZplFTWkkLEP3oWe0RZjz",
      "include_colab_link": true
    },
    "kernelspec": {
      "name": "python3",
      "display_name": "Python 3"
    }
  },
  "cells": [
    {
      "cell_type": "markdown",
      "metadata": {
        "id": "view-in-github",
        "colab_type": "text"
      },
      "source": [
        "<a href=\"https://colab.research.google.com/github/svnesh/MachineLearning/blob/master/song_viewing_prediction.ipynb\" target=\"_parent\"><img src=\"https://colab.research.google.com/assets/colab-badge.svg\" alt=\"Open In Colab\"/></a>"
      ]
    },
    {
      "cell_type": "code",
      "metadata": {
        "id": "fo51lFL5dahI",
        "colab_type": "code",
        "colab": {
          "base_uri": "https://localhost:8080/",
          "height": 34
        },
        "outputId": "69f90ef7-62c5-4806-ae53-f4697fd62165"
      },
      "source": [
        "from google.colab import drive\n",
        "drive.mount('/content/drive')"
      ],
      "execution_count": 2,
      "outputs": [
        {
          "output_type": "stream",
          "text": [
            "Mounted at /content/drive\n"
          ],
          "name": "stdout"
        }
      ]
    },
    {
      "cell_type": "code",
      "metadata": {
        "id": "qYeeUOaNd6ZG",
        "colab_type": "code",
        "colab": {
          "base_uri": "https://localhost:8080/",
          "height": 71
        },
        "outputId": "2c43045f-5451-4c52-8964-049cb9a64b76"
      },
      "source": [
        "import os\n",
        "import re\n",
        "import numpy as np\n",
        "import pandas as pd\n",
        "import matplotlib.pyplot as plt\n",
        "import seaborn as sns\n",
        "from sklearn.preprocessing import StandardScaler\n",
        "from sklearn.model_selection import train_test_split, KFold \n",
        "from sklearn.linear_model import LinearRegression\n",
        "from sklearn.metrics import mean_squared_error\n",
        "from sklearn.ensemble import RandomForestRegressor\n",
        "import warnings\n",
        "\n",
        "warnings.filterwarnings('ignore')\n",
        "%matplotlib inline"
      ],
      "execution_count": 3,
      "outputs": [
        {
          "output_type": "stream",
          "text": [
            "/usr/local/lib/python3.6/dist-packages/statsmodels/tools/_testing.py:19: FutureWarning: pandas.util.testing is deprecated. Use the functions in the public API at pandas.testing instead.\n",
            "  import pandas.util.testing as tm\n"
          ],
          "name": "stderr"
        }
      ]
    },
    {
      "cell_type": "code",
      "metadata": {
        "id": "PlJjB7rdeI4B",
        "colab_type": "code",
        "colab": {}
      },
      "source": [
        "inputPath = \"/content/drive/My Drive/song_viewing_prediction/Inputs\"\n",
        "train_input = os.path.join(inputPath, \"Data_Train.csv\")\n",
        "test_input = os.path.join(inputPath, \"Data_Test.csv\")"
      ],
      "execution_count": 4,
      "outputs": []
    },
    {
      "cell_type": "code",
      "metadata": {
        "id": "2_ckgbd_0zmz",
        "colab_type": "code",
        "colab": {}
      },
      "source": [
        "df_train_orig = pd.read_csv(train_input)"
      ],
      "execution_count": 5,
      "outputs": []
    },
    {
      "cell_type": "code",
      "metadata": {
        "id": "bHrX_l6kehGq",
        "colab_type": "code",
        "colab": {}
      },
      "source": [
        "df_train = pd.read_csv(train_input)\n",
        "df_test = pd.read_csv(test_input)"
      ],
      "execution_count": 6,
      "outputs": []
    },
    {
      "cell_type": "code",
      "metadata": {
        "id": "RHCDIigCf5D1",
        "colab_type": "code",
        "colab": {
          "base_uri": "https://localhost:8080/",
          "height": 51
        },
        "outputId": "5020905f-0f0f-49d4-d0df-36b939d31935"
      },
      "source": [
        "print('Training shape: ', df_train.shape)\n",
        "print('Test shape: ', df_test.shape)"
      ],
      "execution_count": 7,
      "outputs": [
        {
          "output_type": "stream",
          "text": [
            "Training shape:  (78458, 11)\n",
            "Test shape:  (19615, 10)\n"
          ],
          "name": "stdout"
        }
      ]
    },
    {
      "cell_type": "code",
      "metadata": {
        "id": "Jx47CqtjgHbq",
        "colab_type": "code",
        "colab": {
          "base_uri": "https://localhost:8080/",
          "height": 289
        },
        "outputId": "6d3b7cff-1333-4042-8ed6-d3ea7e0a83e5"
      },
      "source": [
        "df_train.head()"
      ],
      "execution_count": 8,
      "outputs": [
        {
          "output_type": "execute_result",
          "data": {
            "text/html": [
              "<div>\n",
              "<style scoped>\n",
              "    .dataframe tbody tr th:only-of-type {\n",
              "        vertical-align: middle;\n",
              "    }\n",
              "\n",
              "    .dataframe tbody tr th {\n",
              "        vertical-align: top;\n",
              "    }\n",
              "\n",
              "    .dataframe thead th {\n",
              "        text-align: right;\n",
              "    }\n",
              "</style>\n",
              "<table border=\"1\" class=\"dataframe\">\n",
              "  <thead>\n",
              "    <tr style=\"text-align: right;\">\n",
              "      <th></th>\n",
              "      <th>Unique_ID</th>\n",
              "      <th>Name</th>\n",
              "      <th>Genre</th>\n",
              "      <th>Country</th>\n",
              "      <th>Song_Name</th>\n",
              "      <th>Timestamp</th>\n",
              "      <th>Views</th>\n",
              "      <th>Comments</th>\n",
              "      <th>Likes</th>\n",
              "      <th>Popularity</th>\n",
              "      <th>Followers</th>\n",
              "    </tr>\n",
              "  </thead>\n",
              "  <tbody>\n",
              "    <tr>\n",
              "      <th>0</th>\n",
              "      <td>413890</td>\n",
              "      <td>Hardstyle</td>\n",
              "      <td>danceedm</td>\n",
              "      <td>AU</td>\n",
              "      <td>N-Vitral presents BOMBSQUAD - Poison Spitter (...</td>\n",
              "      <td>2018-03-30 15:24:45.000000</td>\n",
              "      <td>14017</td>\n",
              "      <td>4</td>\n",
              "      <td>499</td>\n",
              "      <td>97</td>\n",
              "      <td>119563</td>\n",
              "    </tr>\n",
              "    <tr>\n",
              "      <th>1</th>\n",
              "      <td>249453</td>\n",
              "      <td>Dj Aladdin</td>\n",
              "      <td>danceedm</td>\n",
              "      <td>AU</td>\n",
              "      <td>Dj Aladdin - Old School Hip Hop Quick Mix</td>\n",
              "      <td>2016-06-20 05:58:52.000000</td>\n",
              "      <td>1918</td>\n",
              "      <td>17</td>\n",
              "      <td>49</td>\n",
              "      <td>17</td>\n",
              "      <td>2141</td>\n",
              "    </tr>\n",
              "    <tr>\n",
              "      <th>2</th>\n",
              "      <td>681116</td>\n",
              "      <td>Maxximize On Air</td>\n",
              "      <td>danceedm</td>\n",
              "      <td>AU</td>\n",
              "      <td>Maxximize On Air - Mixed by Blasterjaxx - Epis...</td>\n",
              "      <td>2015-05-08 17:45:59.000000</td>\n",
              "      <td>9668</td>\n",
              "      <td>11</td>\n",
              "      <td>312</td>\n",
              "      <td>91</td>\n",
              "      <td>22248</td>\n",
              "    </tr>\n",
              "    <tr>\n",
              "      <th>3</th>\n",
              "      <td>387253</td>\n",
              "      <td>GR6 EXPLODE</td>\n",
              "      <td>rbsoul</td>\n",
              "      <td>AU</td>\n",
              "      <td>MC Yago - Tenho Compromisso (DJ R7)</td>\n",
              "      <td>2017-06-08 23:50:03.000000</td>\n",
              "      <td>113036</td>\n",
              "      <td>2</td>\n",
              "      <td>2,400</td>\n",
              "      <td>76</td>\n",
              "      <td>393655</td>\n",
              "    </tr>\n",
              "    <tr>\n",
              "      <th>4</th>\n",
              "      <td>1428029</td>\n",
              "      <td>Tritonal</td>\n",
              "      <td>danceedm</td>\n",
              "      <td>AU</td>\n",
              "      <td>Escape (feat. Steph Jones)</td>\n",
              "      <td>2016-09-17 20:50:19.000000</td>\n",
              "      <td>110024</td>\n",
              "      <td>81</td>\n",
              "      <td>3,031</td>\n",
              "      <td>699</td>\n",
              "      <td>201030</td>\n",
              "    </tr>\n",
              "  </tbody>\n",
              "</table>\n",
              "</div>"
            ],
            "text/plain": [
              "   Unique_ID              Name     Genre  ...  Likes Popularity Followers\n",
              "0     413890         Hardstyle  danceedm  ...    499         97    119563\n",
              "1     249453        Dj Aladdin  danceedm  ...     49         17      2141\n",
              "2     681116  Maxximize On Air  danceedm  ...    312         91     22248\n",
              "3     387253       GR6 EXPLODE    rbsoul  ...  2,400         76    393655\n",
              "4    1428029          Tritonal  danceedm  ...  3,031        699    201030\n",
              "\n",
              "[5 rows x 11 columns]"
            ]
          },
          "metadata": {
            "tags": []
          },
          "execution_count": 8
        }
      ]
    },
    {
      "cell_type": "code",
      "metadata": {
        "id": "X6h5cQTJgjh6",
        "colab_type": "code",
        "colab": {
          "base_uri": "https://localhost:8080/",
          "height": 204
        },
        "outputId": "ff8e65b9-e5a0-4d27-bc49-de3cd6a9276f"
      },
      "source": [
        "df_test.head()"
      ],
      "execution_count": 9,
      "outputs": [
        {
          "output_type": "execute_result",
          "data": {
            "text/html": [
              "<div>\n",
              "<style scoped>\n",
              "    .dataframe tbody tr th:only-of-type {\n",
              "        vertical-align: middle;\n",
              "    }\n",
              "\n",
              "    .dataframe tbody tr th {\n",
              "        vertical-align: top;\n",
              "    }\n",
              "\n",
              "    .dataframe thead th {\n",
              "        text-align: right;\n",
              "    }\n",
              "</style>\n",
              "<table border=\"1\" class=\"dataframe\">\n",
              "  <thead>\n",
              "    <tr style=\"text-align: right;\">\n",
              "      <th></th>\n",
              "      <th>Unique_ID</th>\n",
              "      <th>Name</th>\n",
              "      <th>Genre</th>\n",
              "      <th>Country</th>\n",
              "      <th>Song_Name</th>\n",
              "      <th>Timestamp</th>\n",
              "      <th>Comments</th>\n",
              "      <th>Likes</th>\n",
              "      <th>Popularity</th>\n",
              "      <th>Followers</th>\n",
              "    </tr>\n",
              "  </thead>\n",
              "  <tbody>\n",
              "    <tr>\n",
              "      <th>0</th>\n",
              "      <td>562546</td>\n",
              "      <td>L2Share♫79</td>\n",
              "      <td>all-music</td>\n",
              "      <td>AU</td>\n",
              "      <td>엔플라잉 N.Flying - Rooftop (옥탑방)</td>\n",
              "      <td>2019-01-02 09:49:19.000000</td>\n",
              "      <td>26</td>\n",
              "      <td>5,428</td>\n",
              "      <td>118</td>\n",
              "      <td>2568</td>\n",
              "    </tr>\n",
              "    <tr>\n",
              "      <th>1</th>\n",
              "      <td>907584</td>\n",
              "      <td>Morgan Page</td>\n",
              "      <td>danceedm</td>\n",
              "      <td>AU</td>\n",
              "      <td>Morgan Page - In The Air - Episode 246</td>\n",
              "      <td>2015-03-09 17:30:10.000000</td>\n",
              "      <td>18</td>\n",
              "      <td>738</td>\n",
              "      <td>195</td>\n",
              "      <td>155645</td>\n",
              "    </tr>\n",
              "    <tr>\n",
              "      <th>2</th>\n",
              "      <td>213013</td>\n",
              "      <td>Dirty Workz</td>\n",
              "      <td>danceedm</td>\n",
              "      <td>AU</td>\n",
              "      <td>Outlander - Devotion (Official HQ Preview)</td>\n",
              "      <td>2013-09-18 16:09:03.000000</td>\n",
              "      <td>18</td>\n",
              "      <td>386</td>\n",
              "      <td>96</td>\n",
              "      <td>29446</td>\n",
              "    </tr>\n",
              "    <tr>\n",
              "      <th>3</th>\n",
              "      <td>340312</td>\n",
              "      <td>Gucci Mane</td>\n",
              "      <td>all-music</td>\n",
              "      <td>AU</td>\n",
              "      <td>Freaky Gurl</td>\n",
              "      <td>2007-08-14 00:00:00.000000</td>\n",
              "      <td>1</td>\n",
              "      <td>388</td>\n",
              "      <td>19</td>\n",
              "      <td>799410</td>\n",
              "    </tr>\n",
              "    <tr>\n",
              "      <th>4</th>\n",
              "      <td>41854</td>\n",
              "      <td>Angga Kecap</td>\n",
              "      <td>rock</td>\n",
              "      <td>AU</td>\n",
              "      <td>Radical Nusantara - Teman</td>\n",
              "      <td>2018-08-10 16:28:54.000000</td>\n",
              "      <td>0</td>\n",
              "      <td>79</td>\n",
              "      <td>1</td>\n",
              "      <td>2</td>\n",
              "    </tr>\n",
              "  </tbody>\n",
              "</table>\n",
              "</div>"
            ],
            "text/plain": [
              "   Unique_ID         Name      Genre  ...  Likes Popularity Followers\n",
              "0     562546   L2Share♫79  all-music  ...  5,428        118      2568\n",
              "1     907584  Morgan Page   danceedm  ...    738        195    155645\n",
              "2     213013  Dirty Workz   danceedm  ...    386         96     29446\n",
              "3     340312   Gucci Mane  all-music  ...    388         19    799410\n",
              "4      41854  Angga Kecap       rock  ...     79          1         2\n",
              "\n",
              "[5 rows x 10 columns]"
            ]
          },
          "metadata": {
            "tags": []
          },
          "execution_count": 9
        }
      ]
    },
    {
      "cell_type": "code",
      "metadata": {
        "id": "O_sUfJzVh385",
        "colab_type": "code",
        "colab": {
          "base_uri": "https://localhost:8080/",
          "height": 297
        },
        "outputId": "43dc0c48-fb1c-499e-9668-18c6c4d0762d"
      },
      "source": [
        "df_train.describe()"
      ],
      "execution_count": 10,
      "outputs": [
        {
          "output_type": "execute_result",
          "data": {
            "text/html": [
              "<div>\n",
              "<style scoped>\n",
              "    .dataframe tbody tr th:only-of-type {\n",
              "        vertical-align: middle;\n",
              "    }\n",
              "\n",
              "    .dataframe tbody tr th {\n",
              "        vertical-align: top;\n",
              "    }\n",
              "\n",
              "    .dataframe thead th {\n",
              "        text-align: right;\n",
              "    }\n",
              "</style>\n",
              "<table border=\"1\" class=\"dataframe\">\n",
              "  <thead>\n",
              "    <tr style=\"text-align: right;\">\n",
              "      <th></th>\n",
              "      <th>Unique_ID</th>\n",
              "      <th>Views</th>\n",
              "      <th>Comments</th>\n",
              "      <th>Followers</th>\n",
              "    </tr>\n",
              "  </thead>\n",
              "  <tbody>\n",
              "    <tr>\n",
              "      <th>count</th>\n",
              "      <td>7.845800e+04</td>\n",
              "      <td>7.845800e+04</td>\n",
              "      <td>78458.000000</td>\n",
              "      <td>7.845800e+04</td>\n",
              "    </tr>\n",
              "    <tr>\n",
              "      <th>mean</th>\n",
              "      <td>7.451701e+05</td>\n",
              "      <td>5.469686e+05</td>\n",
              "      <td>115.270973</td>\n",
              "      <td>4.787663e+05</td>\n",
              "    </tr>\n",
              "    <tr>\n",
              "      <th>std</th>\n",
              "      <td>4.805507e+05</td>\n",
              "      <td>3.883085e+06</td>\n",
              "      <td>724.614868</td>\n",
              "      <td>1.168120e+06</td>\n",
              "    </tr>\n",
              "    <tr>\n",
              "      <th>min</th>\n",
              "      <td>0.000000e+00</td>\n",
              "      <td>0.000000e+00</td>\n",
              "      <td>0.000000</td>\n",
              "      <td>1.000000e+00</td>\n",
              "    </tr>\n",
              "    <tr>\n",
              "      <th>25%</th>\n",
              "      <td>3.149512e+05</td>\n",
              "      <td>6.216500e+03</td>\n",
              "      <td>1.000000</td>\n",
              "      <td>1.770000e+04</td>\n",
              "    </tr>\n",
              "    <tr>\n",
              "      <th>50%</th>\n",
              "      <td>6.618655e+05</td>\n",
              "      <td>2.538650e+04</td>\n",
              "      <td>12.000000</td>\n",
              "      <td>8.768200e+04</td>\n",
              "    </tr>\n",
              "    <tr>\n",
              "      <th>75%</th>\n",
              "      <td>1.176618e+06</td>\n",
              "      <td>1.201342e+05</td>\n",
              "      <td>61.000000</td>\n",
              "      <td>3.936550e+05</td>\n",
              "    </tr>\n",
              "    <tr>\n",
              "      <th>max</th>\n",
              "      <td>1.570012e+06</td>\n",
              "      <td>1.994050e+08</td>\n",
              "      <td>104082.000000</td>\n",
              "      <td>9.789123e+06</td>\n",
              "    </tr>\n",
              "  </tbody>\n",
              "</table>\n",
              "</div>"
            ],
            "text/plain": [
              "          Unique_ID         Views       Comments     Followers\n",
              "count  7.845800e+04  7.845800e+04   78458.000000  7.845800e+04\n",
              "mean   7.451701e+05  5.469686e+05     115.270973  4.787663e+05\n",
              "std    4.805507e+05  3.883085e+06     724.614868  1.168120e+06\n",
              "min    0.000000e+00  0.000000e+00       0.000000  1.000000e+00\n",
              "25%    3.149512e+05  6.216500e+03       1.000000  1.770000e+04\n",
              "50%    6.618655e+05  2.538650e+04      12.000000  8.768200e+04\n",
              "75%    1.176618e+06  1.201342e+05      61.000000  3.936550e+05\n",
              "max    1.570012e+06  1.994050e+08  104082.000000  9.789123e+06"
            ]
          },
          "metadata": {
            "tags": []
          },
          "execution_count": 10
        }
      ]
    },
    {
      "cell_type": "code",
      "metadata": {
        "id": "Nyc8JDa7iQuw",
        "colab_type": "code",
        "colab": {
          "base_uri": "https://localhost:8080/",
          "height": 323
        },
        "outputId": "a222ade4-37e8-4765-cdf1-c94a13a46989"
      },
      "source": [
        "df_train.info()"
      ],
      "execution_count": 11,
      "outputs": [
        {
          "output_type": "stream",
          "text": [
            "<class 'pandas.core.frame.DataFrame'>\n",
            "RangeIndex: 78458 entries, 0 to 78457\n",
            "Data columns (total 11 columns):\n",
            " #   Column      Non-Null Count  Dtype \n",
            "---  ------      --------------  ----- \n",
            " 0   Unique_ID   78458 non-null  int64 \n",
            " 1   Name        78458 non-null  object\n",
            " 2   Genre       78458 non-null  object\n",
            " 3   Country     78458 non-null  object\n",
            " 4   Song_Name   78457 non-null  object\n",
            " 5   Timestamp   78458 non-null  object\n",
            " 6   Views       78458 non-null  int64 \n",
            " 7   Comments    78458 non-null  int64 \n",
            " 8   Likes       78458 non-null  object\n",
            " 9   Popularity  78458 non-null  object\n",
            " 10  Followers   78458 non-null  int64 \n",
            "dtypes: int64(4), object(7)\n",
            "memory usage: 6.6+ MB\n"
          ],
          "name": "stdout"
        }
      ]
    },
    {
      "cell_type": "code",
      "metadata": {
        "id": "6Kodk8TViVmh",
        "colab_type": "code",
        "colab": {
          "base_uri": "https://localhost:8080/",
          "height": 306
        },
        "outputId": "ca471069-49a9-4622-c334-093a5eb0580c"
      },
      "source": [
        "df_test.info()"
      ],
      "execution_count": 12,
      "outputs": [
        {
          "output_type": "stream",
          "text": [
            "<class 'pandas.core.frame.DataFrame'>\n",
            "RangeIndex: 19615 entries, 0 to 19614\n",
            "Data columns (total 10 columns):\n",
            " #   Column      Non-Null Count  Dtype \n",
            "---  ------      --------------  ----- \n",
            " 0   Unique_ID   19615 non-null  int64 \n",
            " 1   Name        19615 non-null  object\n",
            " 2   Genre       19615 non-null  object\n",
            " 3   Country     19615 non-null  object\n",
            " 4   Song_Name   19615 non-null  object\n",
            " 5   Timestamp   19615 non-null  object\n",
            " 6   Comments    19615 non-null  int64 \n",
            " 7   Likes       19615 non-null  object\n",
            " 8   Popularity  19615 non-null  object\n",
            " 9   Followers   19615 non-null  int64 \n",
            "dtypes: int64(3), object(7)\n",
            "memory usage: 1.5+ MB\n"
          ],
          "name": "stdout"
        }
      ]
    },
    {
      "cell_type": "code",
      "metadata": {
        "id": "vm6le1eHimDx",
        "colab_type": "code",
        "colab": {
          "base_uri": "https://localhost:8080/",
          "height": 221
        },
        "outputId": "ba5ebc7f-47d8-4c0b-f368-e8f991a24445"
      },
      "source": [
        "df_train.nunique(axis=0)"
      ],
      "execution_count": 13,
      "outputs": [
        {
          "output_type": "execute_result",
          "data": {
            "text/plain": [
              "Unique_ID     78458\n",
              "Name           1209\n",
              "Genre            21\n",
              "Country           1\n",
              "Song_Name     78457\n",
              "Timestamp     68187\n",
              "Views         53964\n",
              "Comments       2152\n",
              "Likes          9214\n",
              "Popularity     5719\n",
              "Followers      1153\n",
              "dtype: int64"
            ]
          },
          "metadata": {
            "tags": []
          },
          "execution_count": 13
        }
      ]
    },
    {
      "cell_type": "code",
      "metadata": {
        "id": "v1uqd5TBjs3g",
        "colab_type": "code",
        "colab": {
          "base_uri": "https://localhost:8080/",
          "height": 204
        },
        "outputId": "7af82891-ed1e-4036-a753-63fd5ab20349"
      },
      "source": [
        "df_test.nunique(axis=0)"
      ],
      "execution_count": 14,
      "outputs": [
        {
          "output_type": "execute_result",
          "data": {
            "text/plain": [
              "Unique_ID     19615\n",
              "Name           1115\n",
              "Genre            21\n",
              "Country           1\n",
              "Song_Name     19615\n",
              "Timestamp     17810\n",
              "Comments       1123\n",
              "Likes          5415\n",
              "Popularity     2989\n",
              "Followers      1081\n",
              "dtype: int64"
            ]
          },
          "metadata": {
            "tags": []
          },
          "execution_count": 14
        }
      ]
    },
    {
      "cell_type": "code",
      "metadata": {
        "id": "w0W-3JkFldPZ",
        "colab_type": "code",
        "colab": {}
      },
      "source": [
        "df_train['singer_song_count'] = df_train.groupby(['Name'])['Song_Name'].transform('count')\n",
        "df_train['singer_genre_count'] = df_train.groupby(['Name'])['Genre'].transform('count')"
      ],
      "execution_count": 15,
      "outputs": []
    },
    {
      "cell_type": "code",
      "metadata": {
        "id": "EmVrvbjst81y",
        "colab_type": "code",
        "colab": {
          "base_uri": "https://localhost:8080/",
          "height": 307
        },
        "outputId": "7939b1a4-e710-4f8b-98e2-8551fdb3f302"
      },
      "source": [
        "sns.distplot(df_train['Views'])"
      ],
      "execution_count": 16,
      "outputs": [
        {
          "output_type": "execute_result",
          "data": {
            "text/plain": [
              "<matplotlib.axes._subplots.AxesSubplot at 0x7f6b1e063358>"
            ]
          },
          "metadata": {
            "tags": []
          },
          "execution_count": 16
        },
        {
          "output_type": "display_data",
          "data": {
            "image/png": "[encoded data removed]",
            "text/plain": [
              "<Figure size 432x288 with 1 Axes>"
            ]
          },
          "metadata": {
            "tags": [],
            "needs_background": "light"
          }
        }
      ]
    },
    {
      "cell_type": "code",
      "metadata": {
        "id": "2NvU71O3uPm2",
        "colab_type": "code",
        "colab": {}
      },
      "source": [
        "df_train['Views'] = np.log1p(df_train['Views'])"
      ],
      "execution_count": 17,
      "outputs": []
    },
    {
      "cell_type": "code",
      "metadata": {
        "id": "pCtCV_kyucPG",
        "colab_type": "code",
        "colab": {
          "base_uri": "https://localhost:8080/",
          "height": 296
        },
        "outputId": "241092bf-5f43-4b9a-895b-3d0021f1a050"
      },
      "source": [
        "sns.distplot(df_train['Views'])"
      ],
      "execution_count": 18,
      "outputs": [
        {
          "output_type": "execute_result",
          "data": {
            "text/plain": [
              "<matplotlib.axes._subplots.AxesSubplot at 0x7f6b1dbe1518>"
            ]
          },
          "metadata": {
            "tags": []
          },
          "execution_count": 18
        },
        {
          "output_type": "display_data",
          "data": {
            "image/png": "[encoded data removed]",
            "text/plain": [
              "<Figure size 432x288 with 1 Axes>"
            ]
          },
          "metadata": {
            "tags": [],
            "needs_background": "light"
          }
        }
      ]
    },
    {
      "cell_type": "code",
      "metadata": {
        "id": "710GUDq5unHu",
        "colab_type": "code",
        "colab": {}
      },
      "source": [
        "def getTimedetails(df1):\n",
        "  df1['Timestamp'] = pd.to_datetime(df1['Timestamp'])\n",
        "  df1['Year'] = df1['Timestamp'].dt.year\n",
        "  df1['Month'] = df1['Timestamp'].dt.month\n",
        "  df1['DayofWeek'] = df1['Timestamp'].dt.dayofweek\n",
        "  df1['Hour'] = df1['Timestamp'].dt.hour\n",
        "  df1['Minute'] = df1['Timestamp'].dt.minute\n",
        "  df1['Second'] = df1['Timestamp'].dt.second\n",
        "  del df1['Timestamp']\n",
        "  return df1\n",
        "df_train = getTimedetails(df_train)\n",
        "df_test = getTimedetails(df_test)"
      ],
      "execution_count": 19,
      "outputs": []
    },
    {
      "cell_type": "code",
      "metadata": {
        "id": "NfzSz1sTz5J8",
        "colab_type": "code",
        "colab": {}
      },
      "source": [
        "def cleanNumber(value1):\n",
        "  value1 = str(value1).strip()\n",
        "  if re.match(r\"^(\\d*.?\\d+?)K$\", value1):\n",
        "    return int(float(re.sub(r\"^(\\d*.?\\d+?)K$\", r\"\\1\", value1))*1000)\n",
        "  elif re.match(r\"^(\\d*.?\\d+?)M$\", value1):\n",
        "    return int(float(re.sub(r\"^(\\d*.?\\d+?)M$\", r\"\\1\", value1))*1000000)\n",
        "  elif re.match(r\"^(\\d*),(\\d+)$\", value1):\n",
        "    return int(re.sub(r\"^(\\d*),(\\d+)$\", r\"\\1\\2\", value1))\n",
        "  else:\n",
        "    return int(value1)"
      ],
      "execution_count": 20,
      "outputs": []
    },
    {
      "cell_type": "code",
      "metadata": {
        "id": "lS4toLXQ87d6",
        "colab_type": "code",
        "colab": {}
      },
      "source": [
        "df_train.Likes = df_train['Likes'].apply(lambda x: cleanNumber(x))\n",
        "df_test.Likes = df_test['Likes'].apply(lambda x: cleanNumber(x))\n",
        "df_train.Popularity = df_train['Popularity'].apply(lambda x: cleanNumber(x))\n",
        "df_test.Popularity = df_test['Popularity'].apply(lambda x: cleanNumber(x))"
      ],
      "execution_count": 21,
      "outputs": []
    },
    {
      "cell_type": "code",
      "metadata": {
        "id": "dN0NecLJpO70",
        "colab_type": "code",
        "colab": {
          "base_uri": "https://localhost:8080/",
          "height": 675
        },
        "outputId": "5dcdacec-8814-4a5c-9865-4c3b19ba659e"
      },
      "source": [
        "plt.figure(figsize=(12,10))\n",
        "fig = sns.countplot(x='Genre', data=df_train)\n",
        "fig.set_xticklabels(fig.get_xticklabels(), rotation=45)\n",
        "plt.xlabel('Genre of song')\n",
        "plt.ylabel('Count')\n",
        "plt.show()"
      ],
      "execution_count": 22,
      "outputs": [
        {
          "output_type": "display_data",
          "data": {
            "image/png": "[encoded data removed]",
            "text/plain": [
              "<Figure size 864x720 with 1 Axes>"
            ]
          },
          "metadata": {
            "tags": [],
            "needs_background": "light"
          }
        }
      ]
    },
    {
      "cell_type": "code",
      "metadata": {
        "id": "EFZJQY1grZ2C",
        "colab_type": "code",
        "colab": {
          "base_uri": "https://localhost:8080/",
          "height": 868
        },
        "outputId": "eea3ccdf-4c8f-4372-f01e-53d0c93c3154"
      },
      "source": [
        "fig = plt.figure(figsize=(20,15))\n",
        "fig.subplots_adjust(wspace=0.2, hspace=0.2)\n",
        "fig.add_subplot(2,2,1)\n",
        "g1 = sns.regplot(\"Comments\", \"Views\", data=df_train)\n",
        "\n",
        "fig.add_subplot(2,2,2)\n",
        "g2 = sns.regplot(\"Likes\", \"Views\", data=df_train)\n",
        "\n",
        "fig.add_subplot(2,2,3)\n",
        "g3 = sns.regplot(\"Popularity\", \"Views\", data=df_train)\n",
        "\n",
        "fig.add_subplot(2,2,4)\n",
        "g4 = sns.regplot(\"Followers\", \"Views\", data=df_train)\n",
        "\n",
        "plt.show()"
      ],
      "execution_count": 23,
      "outputs": [
        {
          "output_type": "display_data",
          "data": {
            "image/png": "[encoded data removed]",
            "text/plain": [
              "<Figure size 1440x1080 with 4 Axes>"
            ]
          },
          "metadata": {
            "tags": [],
            "needs_background": "light"
          }
        }
      ]
    },
    {
      "cell_type": "code",
      "metadata": {
        "id": "WF4GMRF1XSdG",
        "colab_type": "code",
        "colab": {}
      },
      "source": [
        "col_genre = pd.get_dummies(df_train['Genre'])"
      ],
      "execution_count": 24,
      "outputs": []
    },
    {
      "cell_type": "code",
      "metadata": {
        "id": "6JYJ2-bXYPRs",
        "colab_type": "code",
        "colab": {
          "base_uri": "https://localhost:8080/",
          "height": 34
        },
        "outputId": "2a184f71-aee8-468d-99de-003155a9c521"
      },
      "source": [
        "print('size before drop na {}'.format(df_train.shape))\n",
        "df_train = pd.concat([df_train, col_genre], axis=1)"
      ],
      "execution_count": 25,
      "outputs": [
        {
          "output_type": "stream",
          "text": [
            "size before drop na (78458, 18)\n"
          ],
          "name": "stdout"
        }
      ]
    },
    {
      "cell_type": "code",
      "metadata": {
        "id": "jF6cS9WkCznE",
        "colab_type": "code",
        "colab": {
          "base_uri": "https://localhost:8080/",
          "height": 34
        },
        "outputId": "1d778992-0bd7-4264-c3fc-c68c74e1e1ab"
      },
      "source": [
        "#1 song name is nan\n",
        "df_train.dropna(axis=0, inplace=True)\n",
        "print('size after drop na {}'.format(df_train.shape))"
      ],
      "execution_count": 26,
      "outputs": [
        {
          "output_type": "stream",
          "text": [
            "size after drop na (78457, 39)\n"
          ],
          "name": "stdout"
        }
      ]
    },
    {
      "cell_type": "code",
      "metadata": {
        "id": "BdXmgbIQyKD5",
        "colab_type": "code",
        "colab": {
          "base_uri": "https://localhost:8080/",
          "height": 34
        },
        "outputId": "5d930028-03fb-45eb-bee6-0d31182b823d"
      },
      "source": [
        "df_train = df_train.drop(columns=['Unique_ID'])\n",
        "df_train = df_train.select_dtypes(exclude='object')\n",
        "df_train.shape"
      ],
      "execution_count": 27,
      "outputs": [
        {
          "output_type": "execute_result",
          "data": {
            "text/plain": [
              "(78457, 34)"
            ]
          },
          "metadata": {
            "tags": []
          },
          "execution_count": 27
        }
      ]
    },
    {
      "cell_type": "code",
      "metadata": {
        "id": "TL-N7hcgkxQM",
        "colab_type": "code",
        "colab": {}
      },
      "source": [
        "#due to multi collinearity removed the below 2 cols\n",
        "df_train.drop(columns=['Likes', 'Comments'], axis=1, inplace=True)"
      ],
      "execution_count": 28,
      "outputs": []
    },
    {
      "cell_type": "code",
      "metadata": {
        "id": "7g29VvZJ6khn",
        "colab_type": "code",
        "colab": {}
      },
      "source": [
        "X = df_train.drop(columns=['Views'], axis=1)\n",
        "y = df_train['Views']"
      ],
      "execution_count": 29,
      "outputs": []
    },
    {
      "cell_type": "code",
      "metadata": {
        "id": "eQXXlwRw3xnq",
        "colab_type": "code",
        "colab": {}
      },
      "source": [
        "sc = StandardScaler()\n",
        "X = sc.fit_transform(X)"
      ],
      "execution_count": 30,
      "outputs": []
    },
    {
      "cell_type": "code",
      "metadata": {
        "id": "ej79iFHu6dL3",
        "colab_type": "code",
        "colab": {
          "base_uri": "https://localhost:8080/",
          "height": 102
        },
        "outputId": "99a53fff-fd0c-45c3-d4b1-e016683a64ef"
      },
      "source": [
        "X_train, X_test, y_train, y_test = train_test_split(X, y, test_size=0.3, random_state=42)\n",
        "\n",
        "print('total X shape {}'.format(X.shape))\n",
        "print('Xtrain: {}'.format(X_train.shape))\n",
        "print('Xtest: {}'.format(X_test.shape))\n",
        "print('ytrain: {}'.format(y_train.shape))\n",
        "print('ytest: {}'.format(y_test.shape))"
      ],
      "execution_count": 31,
      "outputs": [
        {
          "output_type": "stream",
          "text": [
            "total X shape (78457, 31)\n",
            "Xtrain: (54919, 31)\n",
            "Xtest: (23538, 31)\n",
            "ytrain: (54919,)\n",
            "ytest: (23538,)\n"
          ],
          "name": "stdout"
        }
      ]
    },
    {
      "cell_type": "code",
      "metadata": {
        "id": "BKg_RKpwaQnj",
        "colab_type": "code",
        "colab": {
          "base_uri": "https://localhost:8080/",
          "height": 136
        },
        "outputId": "f8b20f73-1753-4b84-dcbe-7c1ad301a06c"
      },
      "source": [
        "df_train.columns"
      ],
      "execution_count": 32,
      "outputs": [
        {
          "output_type": "execute_result",
          "data": {
            "text/plain": [
              "Index(['Views', 'Popularity', 'Followers', 'singer_song_count',\n",
              "       'singer_genre_count', 'Year', 'Month', 'DayofWeek', 'Hour', 'Minute',\n",
              "       'Second', 'all-music', 'alternativerock', 'ambient', 'classical',\n",
              "       'country', 'danceedm', 'deephouse', 'disco', 'drumbass', 'dubstep',\n",
              "       'electronic', 'folksingersongwriter', 'hiphoprap', 'indie', 'latin',\n",
              "       'metal', 'pop', 'rbsoul', 'reggaeton', 'rock', 'trap'],\n",
              "      dtype='object')"
            ]
          },
          "metadata": {
            "tags": []
          },
          "execution_count": 32
        }
      ]
    },
    {
      "cell_type": "code",
      "metadata": {
        "id": "_UE3nHjC8h-Y",
        "colab_type": "code",
        "colab": {}
      },
      "source": [
        "le = LinearRegression()\n",
        "le.fit(X_train, y_train)\n",
        "le_pred = le.predict(X_test)"
      ],
      "execution_count": 33,
      "outputs": []
    },
    {
      "cell_type": "code",
      "metadata": {
        "id": "ZVMC60BL9VUF",
        "colab_type": "code",
        "colab": {}
      },
      "source": [
        "train_r2 = le.score(X_train, y_train)\n",
        "test_r2 = le.score(X_test, y_test)\n",
        "rmse_reg = -np.sqrt(mean_squared_error(y_test, le_pred))"
      ],
      "execution_count": 34,
      "outputs": []
    },
    {
      "cell_type": "code",
      "metadata": {
        "id": "7YGIyIprn8zG",
        "colab_type": "code",
        "colab": {
          "base_uri": "https://localhost:8080/",
          "height": 80
        },
        "outputId": "2fe7eb28-7025-4bc8-f5dd-7619b4227df8"
      },
      "source": [
        "report = pd.DataFrame(data=[], columns=[\"name\",\"r2_train\",\"r2_test\",\"rmse\"])\n",
        "report.loc[0] = [\"Linear regression\", train_r2, test_r2, rmse_reg]\n",
        "report.head()"
      ],
      "execution_count": 35,
      "outputs": [
        {
          "output_type": "execute_result",
          "data": {
            "text/html": [
              "<div>\n",
              "<style scoped>\n",
              "    .dataframe tbody tr th:only-of-type {\n",
              "        vertical-align: middle;\n",
              "    }\n",
              "\n",
              "    .dataframe tbody tr th {\n",
              "        vertical-align: top;\n",
              "    }\n",
              "\n",
              "    .dataframe thead th {\n",
              "        text-align: right;\n",
              "    }\n",
              "</style>\n",
              "<table border=\"1\" class=\"dataframe\">\n",
              "  <thead>\n",
              "    <tr style=\"text-align: right;\">\n",
              "      <th></th>\n",
              "      <th>name</th>\n",
              "      <th>r2_train</th>\n",
              "      <th>r2_test</th>\n",
              "      <th>rmse</th>\n",
              "    </tr>\n",
              "  </thead>\n",
              "  <tbody>\n",
              "    <tr>\n",
              "      <th>0</th>\n",
              "      <td>Linear regression</td>\n",
              "      <td>0.282505</td>\n",
              "      <td>0.261127</td>\n",
              "      <td>-2.348202</td>\n",
              "    </tr>\n",
              "  </tbody>\n",
              "</table>\n",
              "</div>"
            ],
            "text/plain": [
              "                name  r2_train   r2_test      rmse\n",
              "0  Linear regression  0.282505  0.261127 -2.348202"
            ]
          },
          "metadata": {
            "tags": []
          },
          "execution_count": 35
        }
      ]
    },
    {
      "cell_type": "code",
      "metadata": {
        "id": "QzBL3Z7RjDJg",
        "colab_type": "code",
        "colab": {}
      },
      "source": [
        "rf = RandomForestRegressor()\n",
        "rf.fit(X_train, y_train)\n",
        "rf_pred = rf.predict(X_test)"
      ],
      "execution_count": 36,
      "outputs": []
    },
    {
      "cell_type": "code",
      "metadata": {
        "id": "6RyNz5uqjcRC",
        "colab_type": "code",
        "colab": {
          "base_uri": "https://localhost:8080/",
          "height": 34
        },
        "outputId": "5b59f639-1093-4671-96c3-8cdc2642a2f2"
      },
      "source": [
        "rftrain_r2 = rf.score(X_train, y_train)\n",
        "rftest_r2 = rf.score(X_test, y_test)\n",
        "rmse_reg = -np.sqrt(mean_squared_error(y_test, rf_pred))\n",
        "print(rftest_r2)"
      ],
      "execution_count": 37,
      "outputs": [
        {
          "output_type": "stream",
          "text": [
            "0.9418316889626552\n"
          ],
          "name": "stdout"
        }
      ]
    },
    {
      "cell_type": "code",
      "metadata": {
        "id": "udgfDzSi4Atx",
        "colab_type": "code",
        "colab": {
          "base_uri": "https://localhost:8080/",
          "height": 111
        },
        "outputId": "b7d83e80-e93d-4aab-8eff-3dd835671bc9"
      },
      "source": [
        "report.loc[report.shape[0]] = [\"Random forest\", rftrain_r2, rftest_r2, rmse_reg]\n",
        "report.head()"
      ],
      "execution_count": 38,
      "outputs": [
        {
          "output_type": "execute_result",
          "data": {
            "text/html": [
              "<div>\n",
              "<style scoped>\n",
              "    .dataframe tbody tr th:only-of-type {\n",
              "        vertical-align: middle;\n",
              "    }\n",
              "\n",
              "    .dataframe tbody tr th {\n",
              "        vertical-align: top;\n",
              "    }\n",
              "\n",
              "    .dataframe thead th {\n",
              "        text-align: right;\n",
              "    }\n",
              "</style>\n",
              "<table border=\"1\" class=\"dataframe\">\n",
              "  <thead>\n",
              "    <tr style=\"text-align: right;\">\n",
              "      <th></th>\n",
              "      <th>name</th>\n",
              "      <th>r2_train</th>\n",
              "      <th>r2_test</th>\n",
              "      <th>rmse</th>\n",
              "    </tr>\n",
              "  </thead>\n",
              "  <tbody>\n",
              "    <tr>\n",
              "      <th>0</th>\n",
              "      <td>Linear regression</td>\n",
              "      <td>0.282505</td>\n",
              "      <td>0.261127</td>\n",
              "      <td>-2.348202</td>\n",
              "    </tr>\n",
              "    <tr>\n",
              "      <th>1</th>\n",
              "      <td>Random forest</td>\n",
              "      <td>0.989699</td>\n",
              "      <td>0.941832</td>\n",
              "      <td>-0.658861</td>\n",
              "    </tr>\n",
              "  </tbody>\n",
              "</table>\n",
              "</div>"
            ],
            "text/plain": [
              "                name  r2_train   r2_test      rmse\n",
              "0  Linear regression  0.282505  0.261127 -2.348202\n",
              "1      Random forest  0.989699  0.941832 -0.658861"
            ]
          },
          "metadata": {
            "tags": []
          },
          "execution_count": 38
        }
      ]
    },
    {
      "cell_type": "code",
      "metadata": {
        "id": "HwkP12_9DZ_X",
        "colab_type": "code",
        "colab": {
          "base_uri": "https://localhost:8080/",
          "height": 442
        },
        "outputId": "1ee43bd1-44ba-4a84-cd3b-7fb8b4d8f993"
      },
      "source": [
        "plt.figure(figsize=(7,7))\n",
        "sns.regplot(x=y_test, y=rf_pred)\n",
        "plt.show()"
      ],
      "execution_count": 56,
      "outputs": [
        {
          "output_type": "display_data",
          "data": {
            "image/png": "[encoded data removed]",
            "text/plain": [
              "<Figure size 504x504 with 1 Axes>"
            ]
          },
          "metadata": {
            "tags": [],
            "needs_background": "light"
          }
        }
      ]
    },
    {
      "cell_type": "code",
      "metadata": {
        "id": "2QL_mDYfdS9S",
        "colab_type": "code",
        "colab": {
          "base_uri": "https://localhost:8080/",
          "height": 221
        },
        "outputId": "4446ef16-4b5a-4ba4-9b34-12e59097d689"
      },
      "source": [
        "score_test = []\n",
        "rf_kf = RandomForestRegressor()\n",
        "kf = KFold(n_splits=5, shuffle=False, random_state=None)\n",
        "for train_index, test_index in kf.split(X_train):\n",
        "  X_kf_train, X_kf_test = X_train[train_index], X_train[test_index]\n",
        "  y_kf_train, y_kf_test = y_train.iloc[train_index], y_train.iloc[test_index]\n",
        "\n",
        "  rf_kf.fit(X_kf_train, y_kf_train)\n",
        "  score_test.append(rf_kf.score(X_kf_test, y_kf_test))\n",
        " \n",
        "pd.DataFrame(score_test)"
      ],
      "execution_count": 59,
      "outputs": [
        {
          "output_type": "stream",
          "text": [
            "test score in kfold {np.mean(score_test)}\n"
          ],
          "name": "stdout"
        },
        {
          "output_type": "execute_result",
          "data": {
            "text/html": [
              "<div>\n",
              "<style scoped>\n",
              "    .dataframe tbody tr th:only-of-type {\n",
              "        vertical-align: middle;\n",
              "    }\n",
              "\n",
              "    .dataframe tbody tr th {\n",
              "        vertical-align: top;\n",
              "    }\n",
              "\n",
              "    .dataframe thead th {\n",
              "        text-align: right;\n",
              "    }\n",
              "</style>\n",
              "<table border=\"1\" class=\"dataframe\">\n",
              "  <thead>\n",
              "    <tr style=\"text-align: right;\">\n",
              "      <th></th>\n",
              "      <th>0</th>\n",
              "    </tr>\n",
              "  </thead>\n",
              "  <tbody>\n",
              "    <tr>\n",
              "      <th>0</th>\n",
              "      <td>0.939412</td>\n",
              "    </tr>\n",
              "    <tr>\n",
              "      <th>1</th>\n",
              "      <td>0.939521</td>\n",
              "    </tr>\n",
              "    <tr>\n",
              "      <th>2</th>\n",
              "      <td>0.939912</td>\n",
              "    </tr>\n",
              "    <tr>\n",
              "      <th>3</th>\n",
              "      <td>0.939175</td>\n",
              "    </tr>\n",
              "    <tr>\n",
              "      <th>4</th>\n",
              "      <td>0.937852</td>\n",
              "    </tr>\n",
              "  </tbody>\n",
              "</table>\n",
              "</div>"
            ],
            "text/plain": [
              "          0\n",
              "0  0.939412\n",
              "1  0.939521\n",
              "2  0.939912\n",
              "3  0.939175\n",
              "4  0.937852"
            ]
          },
          "metadata": {
            "tags": []
          },
          "execution_count": 59
        }
      ]
    },
    {
      "cell_type": "code",
      "metadata": {
        "id": "Ds8WEtgYiU-q",
        "colab_type": "code",
        "colab": {
          "base_uri": "https://localhost:8080/",
          "height": 34
        },
        "outputId": "30906e8c-cb32-44f9-af94-a861b73a4a3f"
      },
      "source": [
        "print(f'mean test score in kfold {np.mean(score_test)}')"
      ],
      "execution_count": 60,
      "outputs": [
        {
          "output_type": "stream",
          "text": [
            "test score in kfold 0.9391741146997263\n"
          ],
          "name": "stdout"
        }
      ]
    },
    {
      "cell_type": "code",
      "metadata": {
        "id": "4oYpK1TsDaRN",
        "colab_type": "code",
        "colab": {
          "base_uri": "https://localhost:8080/",
          "height": 34
        },
        "outputId": "c0d92f6e-3828-433e-f5e5-3e38313d5fb9"
      },
      "source": [
        "rfkftrain_r2 = rf_kf.score(X_train, y_train)\n",
        "rfkftest_r2 = rf_kf.score(X_test, y_test)\n",
        "rmse_reg = -np.sqrt(mean_squared_error(y_test, rf_kf.predict(X_test)))\n",
        "print(rfkftest_r2)"
      ],
      "execution_count": 61,
      "outputs": [
        {
          "output_type": "stream",
          "text": [
            "0.9369741146566729\n"
          ],
          "name": "stdout"
        }
      ]
    },
    {
      "cell_type": "code",
      "metadata": {
        "id": "VAfglSkdj_Er",
        "colab_type": "code",
        "colab": {
          "base_uri": "https://localhost:8080/",
          "height": 142
        },
        "outputId": "5f6f411d-2338-46e4-9ccf-32392f007239"
      },
      "source": [
        "report.loc[report.shape[0]] = [\"Random forest with kfold\", rfkftrain_r2, rfkftest_r2, rmse_reg]\n",
        "report.head()"
      ],
      "execution_count": 62,
      "outputs": [
        {
          "output_type": "execute_result",
          "data": {
            "text/html": [
              "<div>\n",
              "<style scoped>\n",
              "    .dataframe tbody tr th:only-of-type {\n",
              "        vertical-align: middle;\n",
              "    }\n",
              "\n",
              "    .dataframe tbody tr th {\n",
              "        vertical-align: top;\n",
              "    }\n",
              "\n",
              "    .dataframe thead th {\n",
              "        text-align: right;\n",
              "    }\n",
              "</style>\n",
              "<table border=\"1\" class=\"dataframe\">\n",
              "  <thead>\n",
              "    <tr style=\"text-align: right;\">\n",
              "      <th></th>\n",
              "      <th>name</th>\n",
              "      <th>r2_train</th>\n",
              "      <th>r2_test</th>\n",
              "      <th>rmse</th>\n",
              "    </tr>\n",
              "  </thead>\n",
              "  <tbody>\n",
              "    <tr>\n",
              "      <th>0</th>\n",
              "      <td>Linear regression</td>\n",
              "      <td>0.282505</td>\n",
              "      <td>0.261127</td>\n",
              "      <td>-2.348202</td>\n",
              "    </tr>\n",
              "    <tr>\n",
              "      <th>1</th>\n",
              "      <td>Random forest</td>\n",
              "      <td>0.989699</td>\n",
              "      <td>0.941832</td>\n",
              "      <td>-0.658861</td>\n",
              "    </tr>\n",
              "    <tr>\n",
              "      <th>2</th>\n",
              "      <td>Random forest with kfold</td>\n",
              "      <td>0.978900</td>\n",
              "      <td>0.936974</td>\n",
              "      <td>-0.685820</td>\n",
              "    </tr>\n",
              "  </tbody>\n",
              "</table>\n",
              "</div>"
            ],
            "text/plain": [
              "                       name  r2_train   r2_test      rmse\n",
              "0         Linear regression  0.282505  0.261127 -2.348202\n",
              "1             Random forest  0.989699  0.941832 -0.658861\n",
              "2  Random forest with kfold  0.978900  0.936974 -0.685820"
            ]
          },
          "metadata": {
            "tags": []
          },
          "execution_count": 62
        }
      ]
    },
    {
      "cell_type": "code",
      "metadata": {
        "id": "mk3fvFz1AOIY",
        "colab_type": "code",
        "colab": {}
      },
      "source": [
        "baseline_pred = np.full(y_train.shape, y_train.mean())"
      ],
      "execution_count": 40,
      "outputs": []
    },
    {
      "cell_type": "code",
      "metadata": {
        "id": "O2Z1pYzqHCF5",
        "colab_type": "code",
        "colab": {
          "base_uri": "https://localhost:8080/",
          "height": 34
        },
        "outputId": "c264c917-2297-4ad7-d244-5c09774327e3"
      },
      "source": [
        "print('baseline train r2: {}'.format(le.score(X_train, baseline_pred)))"
      ],
      "execution_count": 41,
      "outputs": [
        {
          "output_type": "stream",
          "text": [
            "baseline train r2: -6.674179106709851e+29\n"
          ],
          "name": "stdout"
        }
      ]
    }
  ]
}